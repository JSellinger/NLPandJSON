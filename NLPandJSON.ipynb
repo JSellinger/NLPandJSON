{
 "cells": [
  {
   "cell_type": "markdown",
   "id": "339a3e71",
   "metadata": {},
   "source": [
    "# NLP and JSON Module 4\n",
    "\n",
    "## Jacob Sellinger"
   ]
  },
  {
   "cell_type": "code",
   "execution_count": null,
   "id": "0367f76a",
   "metadata": {
    "vscode": {
     "languageId": "plaintext"
    }
   },
   "outputs": [],
   "source": []
  }
 ],
 "metadata": {
  "language_info": {
   "name": "python"
  }
 },
 "nbformat": 4,
 "nbformat_minor": 5
}
